{
  "nbformat": 4,
  "nbformat_minor": 0,
  "metadata": {
    "colab": {
      "provenance": [],
      "machine_shape": "hm"
    },
    "kernelspec": {
      "name": "python3",
      "display_name": "Python 3"
    },
    "language_info": {
      "name": "python"
    },
    "accelerator": "GPU",
    "gpuClass": "standard"
  },
  "cells": [
    {
      "cell_type": "code",
      "execution_count": 1,
      "metadata": {
        "colab": {
          "base_uri": "https://localhost:8080/"
        },
        "id": "lguyiJuAe_Bz",
        "outputId": "7079a916-f277-4a98-fc1a-ca3bc2aeb081"
      },
      "outputs": [
        {
          "output_type": "stream",
          "name": "stdout",
          "text": [
            "Cloning into 'ESRGAN'...\n",
            "remote: Enumerating objects: 44, done.\u001b[K\n",
            "remote: Counting objects: 100% (44/44), done.\u001b[K\n",
            "remote: Compressing objects: 100% (42/42), done.\u001b[K\n",
            "remote: Total 44 (delta 11), reused 0 (delta 0), pack-reused 0\u001b[K\n",
            "Unpacking objects: 100% (44/44), 1.71 MiB | 2.47 MiB/s, done.\n"
          ]
        }
      ],
      "source": [
        "!git clone https://github.com/ugiugi0823/ESRGAN.git\n",
        "!gdown \"1LBSyi4Wz_5BrzHWguaNDWuaUzAn5bQzx&confirm=t\""
      ]
    },
    {
      "cell_type": "code",
      "source": [
        "%cd  /content/ESRGAN"
      ],
      "metadata": {
        "colab": {
          "base_uri": "https://localhost:8080/"
        },
        "id": "8vMh_pvCfd5A",
        "outputId": "6584b38b-fbd9-4e69-a23c-175948fcf85c"
      },
      "execution_count": 8,
      "outputs": [
        {
          "output_type": "stream",
          "name": "stdout",
          "text": [
            "/content/ESRGAN\n"
          ]
        }
      ]
    },
    {
      "cell_type": "code",
      "source": [
        "import os\n",
        "from zipfile import ZipFile\n",
        "import glob \n",
        "import pandas as pd \n",
        "\n",
        "# from google.colab import drive\n",
        "\n",
        "dir = '/content/'\n",
        "\n",
        "# 실제로 알집이 풀어질 경로\n",
        "base_dir = '/content/ESRGAN/'\n",
        "\n",
        "\n",
        "# os.chdir(base_dir)\n",
        "\n",
        "# 알집을 풀어볼까용?\n",
        "ZipFile(dir + 'ESRGAN_generator.zip').extractall(base_dir)\n",
        "\n",
        "\n",
        "\n",
        "# 실제로 잘 풀렸는지 확인\n",
        "\n",
        "os.listdir(base_dir)\n"
      ],
      "metadata": {
        "colab": {
          "base_uri": "https://localhost:8080/"
        },
        "id": "o_0HfDuwf7TD",
        "outputId": "624d25f1-fd81-4c8f-950f-7b2c5b0289e4"
      },
      "execution_count": 17,
      "outputs": [
        {
          "output_type": "execute_result",
          "data": {
            "text/plain": [
              "['dataset.py',\n",
              " '__pycache__',\n",
              " 'gen.pth',\n",
              " 'config.py',\n",
              " 'README.md',\n",
              " 'ESRGAN_generator.zip',\n",
              " 'utils.py',\n",
              " 'saved',\n",
              " 'ESRGAN.png',\n",
              " 'loss.py',\n",
              " 'model.py',\n",
              " '.git',\n",
              " 'train.py',\n",
              " '.ipynb_checkpoints',\n",
              " 'test_images']"
            ]
          },
          "metadata": {},
          "execution_count": 17
        }
      ]
    },
    {
      "cell_type": "code",
      "source": [
        "!python train.py"
      ],
      "metadata": {
        "colab": {
          "base_uri": "https://localhost:8080/"
        },
        "id": "THKQUdJUfhne",
        "outputId": "8744d71f-1801-470b-9fa1-712a9aa683e6"
      },
      "execution_count": 13,
      "outputs": [
        {
          "output_type": "stream",
          "name": "stdout",
          "text": [
            "=> Loading checkpoint\n"
          ]
        }
      ]
    }
  ]
}